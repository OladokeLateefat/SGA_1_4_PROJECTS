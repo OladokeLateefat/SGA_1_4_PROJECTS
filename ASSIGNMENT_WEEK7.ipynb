{
  "cells": [
    {
      "cell_type": "markdown",
      "id": "80e5576a",
      "metadata": {
        "id": "80e5576a"
      },
      "source": [
        "Assignment 7 (Week 7) Note:\n",
        "\n",
        "Late submissions are penalized.\n",
        "Only GitHub submissions are acceptable. \n",
        "\n",
        "## Name: OLADOKE FUNMILOLA LATEEFAT\n",
        "\n",
        "\n",
        "Please show and display ALL your calculations and results.\n",
        "\n",
        "Remember to read the instructions carefully."
      ]
    },
    {
      "cell_type": "code",
      "execution_count": null,
      "id": "e6fb69c1",
      "metadata": {
        "id": "e6fb69c1"
      },
      "outputs": [],
      "source": [
        "# Built-in library\n",
        "import itertools\n",
        "\n",
        "# Standard imports\n",
        "import numpy as np\n",
        "import pandas as pd\n",
        "\n",
        "# Built-in library\n",
        "import itertools\n",
        "import re\n",
        "import json\n",
        "from typing import Union, Optional, Sequence\n",
        "\n",
        "# pandas settings\n",
        "pd.options.display.max_rows = 1_000\n",
        "pd.options.display.max_columns = 1_000\n",
        "pd.options.display.max_colwidth = 1_000\n",
        "\n",
        "\n",
        "# # Black code formatter (Optional)\n",
        "# %load_ext lab_black"
      ]
    },
    {
      "cell_type": "code",
      "execution_count": null,
      "id": "bc099adc",
      "metadata": {
        "id": "bc099adc"
      },
      "outputs": [],
      "source": [
        "Data Dictionary\n",
        "- Age: continuous.\n",
        "\n",
        "- Workclass: Private, Self-emp-not-inc, Self-emp-inc, Federal-gov, Local-gov, State-gov, Without-pay, Never-worked.\n",
        "\n",
        "- Final_weight: continuous.\n",
        "\n",
        "- Education: Bachelors, Some-college, 11th, HS-grad, Prof-school, Assoc-acdm, Assoc-voc, 9th, 7th-8th, 12th, - Masters, 1st-4th, 10th, Doctorate, 5th-6th, Preschool.\n",
        "\n",
        "- Education_num: continuous.\n",
        "\n",
        "- Marital_status: Married-civ-spouse, Divorced, Never-married, Separated, Widowed, Married-spouse-absent, - Married-AF-spouse.\n",
        "\n",
        "- Occupation: Tech-support, Craft-repair, Other-service, Sales, Exec-managerial, Prof-specialty, Handlers-cleaners, Machine-op-inspct, Adm-clerical, Farming-fishing, Transport-moving, Priv-house-serv, Protective-serv, Armed-Forces.\n",
        "\n",
        "- Relationship: Wife, Own-child, Husband, Not-in-family, Other-relative, Unmarried.\n",
        "\n",
        "- Race: White, Asian-Pac-Islander, Amer-Indian-Eskimo, Other, Black.\n",
        "\n",
        "- Genger: Female, Male.\n",
        "\n",
        "- Capital_gain: continuous.\n",
        "\n",
        "- Capital_loss: continuous.\n",
        "\n",
        "- Hours_per_week: continuous.\n",
        "\n",
        "- Country: United-States, Cambodia, England, Puerto-Rico, Canada, Germany, Outlying-US(Guam-USVI-etc), India, Japan, Greece, South, China, Cuba, Iran, Honduras, Philippines, Italy, Poland, Jamaica, Vietnam, Mexico, Portugal, Ireland, France, Dominican-Republic, Laos, Ecuador, Taiwan, Haiti, Columbia, Hungary, Guatemala, Nicaragua, Scotland, Thailand, Yugoslavia, El-Salvador, Trinadad&Tobago, Peru, Hong, Holand-Netherlands.\n",
        "\n",
        "- Salary: "
      ]
    },
    {
      "cell_type": "markdown",
      "id": "4293b52e",
      "metadata": {
        "id": "4293b52e"
      },
      "source": [
        "Objective\n",
        "\n",
        "Predict whether a person makes over 50K a year.\n",
        "\n",
        "Qs 1. Build a machine learning model that predicts the salary.\n",
        "\n",
        "Qs 2. Evaluate the performance of your model using at least three (3) performance metrics.\n",
        "\n",
        "Note:\n",
        "\n",
        "The assignment should be submitted through a public GitHub repository."
      ]
    },
    {
      "cell_type": "code",
      "execution_count": null,
      "id": "e1d0277f",
      "metadata": {
        "id": "e1d0277f"
      },
      "outputs": [],
      "source": [
        "def load_data(*, filename: str, sep: str = \",\") -> pd.DataFrame:\n",
        "    \"\"\"This is used to load the data.\n",
        "\n",
        "    Params;\n",
        "        filename (str): The filepath.\n",
        "        sep (str, default=\",\"): The separator. e.g ',', '\\t', etc\n",
        "\n",
        "    Returns:\n",
        "        data (pd.DataFrame): The loaded dataframe.\n",
        "    \"\"\"\n",
        "    data = pd.read_csv(filename, sep=sep)\n",
        "    print(f\"Shape of data: {data.shape}\\n\")\n",
        "    return data"
      ]
    },
    {
      "cell_type": "code",
      "execution_count": null,
      "id": "1c579aed",
      "metadata": {
        "id": "1c579aed",
        "outputId": "46d939bb-86a7-4564-ca04-9e5ed0d5bdc5"
      },
      "outputs": [
        {
          "data": {
            "text/html": [
              "<div>\n",
              "<style scoped>\n",
              "    .dataframe tbody tr th:only-of-type {\n",
              "        vertical-align: middle;\n",
              "    }\n",
              "\n",
              "    .dataframe tbody tr th {\n",
              "        vertical-align: top;\n",
              "    }\n",
              "\n",
              "    .dataframe thead th {\n",
              "        text-align: right;\n",
              "    }\n",
              "</style>\n",
              "<table border=\"1\" class=\"dataframe\">\n",
              "  <thead>\n",
              "    <tr style=\"text-align: right;\">\n",
              "      <th></th>\n",
              "      <th>Age</th>\n",
              "      <th>Workclass</th>\n",
              "      <th>Final_weight</th>\n",
              "      <th>Education</th>\n",
              "      <th>Education_num</th>\n",
              "      <th>Marital_status</th>\n",
              "      <th>Occupation</th>\n",
              "      <th>Relationship</th>\n",
              "      <th>Race</th>\n",
              "      <th>Sex</th>\n",
              "      <th>Capital_gain</th>\n",
              "      <th>Capital_loss</th>\n",
              "      <th>Hours_per_week</th>\n",
              "      <th>Country</th>\n",
              "      <th>Salary</th>\n",
              "    </tr>\n",
              "  </thead>\n",
              "  <tbody>\n",
              "    <tr>\n",
              "      <th>0</th>\n",
              "      <td>50</td>\n",
              "      <td>Self-emp-not-inc</td>\n",
              "      <td>83311</td>\n",
              "      <td>Bachelors</td>\n",
              "      <td>13</td>\n",
              "      <td>Married-civ-spouse</td>\n",
              "      <td>Exec-managerial</td>\n",
              "      <td>Husband</td>\n",
              "      <td>White</td>\n",
              "      <td>Male</td>\n",
              "      <td>0</td>\n",
              "      <td>0</td>\n",
              "      <td>13</td>\n",
              "      <td>United-States</td>\n",
              "      <td>&lt;=50K</td>\n",
              "    </tr>\n",
              "    <tr>\n",
              "      <th>1</th>\n",
              "      <td>38</td>\n",
              "      <td>Private</td>\n",
              "      <td>215646</td>\n",
              "      <td>HS-grad</td>\n",
              "      <td>9</td>\n",
              "      <td>Divorced</td>\n",
              "      <td>Handlers-cleaners</td>\n",
              "      <td>Not-in-family</td>\n",
              "      <td>White</td>\n",
              "      <td>Male</td>\n",
              "      <td>0</td>\n",
              "      <td>0</td>\n",
              "      <td>40</td>\n",
              "      <td>United-States</td>\n",
              "      <td>&lt;=50K</td>\n",
              "    </tr>\n",
              "    <tr>\n",
              "      <th>2</th>\n",
              "      <td>53</td>\n",
              "      <td>Private</td>\n",
              "      <td>234721</td>\n",
              "      <td>11th</td>\n",
              "      <td>7</td>\n",
              "      <td>Married-civ-spouse</td>\n",
              "      <td>Handlers-cleaners</td>\n",
              "      <td>Husband</td>\n",
              "      <td>Black</td>\n",
              "      <td>Male</td>\n",
              "      <td>0</td>\n",
              "      <td>0</td>\n",
              "      <td>40</td>\n",
              "      <td>United-States</td>\n",
              "      <td>&lt;=50K</td>\n",
              "    </tr>\n",
              "    <tr>\n",
              "      <th>3</th>\n",
              "      <td>28</td>\n",
              "      <td>Private</td>\n",
              "      <td>338409</td>\n",
              "      <td>Bachelors</td>\n",
              "      <td>13</td>\n",
              "      <td>Married-civ-spouse</td>\n",
              "      <td>Prof-specialty</td>\n",
              "      <td>Wife</td>\n",
              "      <td>Black</td>\n",
              "      <td>Female</td>\n",
              "      <td>0</td>\n",
              "      <td>0</td>\n",
              "      <td>40</td>\n",
              "      <td>Cuba</td>\n",
              "      <td>&lt;=50K</td>\n",
              "    </tr>\n",
              "    <tr>\n",
              "      <th>4</th>\n",
              "      <td>37</td>\n",
              "      <td>Private</td>\n",
              "      <td>284582</td>\n",
              "      <td>Masters</td>\n",
              "      <td>14</td>\n",
              "      <td>Married-civ-spouse</td>\n",
              "      <td>Exec-managerial</td>\n",
              "      <td>Wife</td>\n",
              "      <td>White</td>\n",
              "      <td>Female</td>\n",
              "      <td>0</td>\n",
              "      <td>0</td>\n",
              "      <td>40</td>\n",
              "      <td>United-States</td>\n",
              "      <td>&lt;=50K</td>\n",
              "    </tr>\n",
              "  </tbody>\n",
              "</table>\n",
              "</div>"
            ],
            "text/plain": [
              "   Age          Workclass  Final_weight   Education  Education_num  \\\n",
              "0   50   Self-emp-not-inc         83311   Bachelors             13   \n",
              "1   38            Private        215646     HS-grad              9   \n",
              "2   53            Private        234721        11th              7   \n",
              "3   28            Private        338409   Bachelors             13   \n",
              "4   37            Private        284582     Masters             14   \n",
              "\n",
              "        Marital_status          Occupation    Relationship    Race      Sex  \\\n",
              "0   Married-civ-spouse     Exec-managerial         Husband   White     Male   \n",
              "1             Divorced   Handlers-cleaners   Not-in-family   White     Male   \n",
              "2   Married-civ-spouse   Handlers-cleaners         Husband   Black     Male   \n",
              "3   Married-civ-spouse      Prof-specialty            Wife   Black   Female   \n",
              "4   Married-civ-spouse     Exec-managerial            Wife   White   Female   \n",
              "\n",
              "   Capital_gain  Capital_loss  Hours_per_week         Country  Salary  \n",
              "0             0             0              13   United-States   <=50K  \n",
              "1             0             0              40   United-States   <=50K  \n",
              "2             0             0              40   United-States   <=50K  \n",
              "3             0             0              40            Cuba   <=50K  \n",
              "4             0             0              40   United-States   <=50K  "
            ]
          },
          "execution_count": 4,
          "metadata": {},
          "output_type": "execute_result"
        }
      ],
      "source": [
        "# Load Data\n",
        "\n",
        "import csv\n",
        "\n",
        "df = pd.read_csv(\"salary.csv\")\n",
        "\n",
        "\n",
        "\n",
        "df.head()\n"
      ]
    },
    {
      "cell_type": "code",
      "execution_count": null,
      "id": "9a3ecdb9",
      "metadata": {
        "id": "9a3ecdb9"
      },
      "outputs": [],
      "source": []
    },
    {
      "cell_type": "code",
      "execution_count": null,
      "id": "c85b1718",
      "metadata": {
        "id": "c85b1718",
        "outputId": "4bcaf7e0-4004-4134-8f80-819f7a2bbebe"
      },
      "outputs": [
        {
          "data": {
            "text/plain": [
              "Age                int64\n",
              "Workclass         object\n",
              "Final_weight       int64\n",
              "Education         object\n",
              "Education_num      int64\n",
              "Marital_status    object\n",
              "Occupation        object\n",
              "Relationship      object\n",
              "Race              object\n",
              "Sex               object\n",
              "Capital_gain       int64\n",
              "Capital_loss       int64\n",
              "Hours_per_week     int64\n",
              "Country           object\n",
              "Salary            object\n",
              "dtype: object"
            ]
          },
          "execution_count": 5,
          "metadata": {},
          "output_type": "execute_result"
        }
      ],
      "source": [
        "df.dtypes"
      ]
    },
    {
      "cell_type": "code",
      "execution_count": null,
      "id": "25d083c4",
      "metadata": {
        "id": "25d083c4",
        "outputId": "0edd87da-82fa-4301-c8fe-47e07bf18ac9"
      },
      "outputs": [
        {
          "data": {
            "text/plain": [
              "Age               0\n",
              "Workclass         0\n",
              "Final_weight      0\n",
              "Education         0\n",
              "Education_num     0\n",
              "Marital_status    0\n",
              "Occupation        0\n",
              "Relationship      0\n",
              "Race              0\n",
              "Sex               0\n",
              "Capital_gain      0\n",
              "Capital_loss      0\n",
              "Hours_per_week    0\n",
              "Country           0\n",
              "Salary            0\n",
              "dtype: int64"
            ]
          },
          "execution_count": 6,
          "metadata": {},
          "output_type": "execute_result"
        }
      ],
      "source": [
        "# Check for NaNs\n",
        "df.isna().sum()"
      ]
    },
    {
      "cell_type": "code",
      "execution_count": null,
      "id": "a33d777e",
      "metadata": {
        "id": "a33d777e",
        "outputId": "d298f255-4b88-430c-9c15-cc4d466dcba7"
      },
      "outputs": [
        {
          "name": "stdout",
          "output_type": "stream",
          "text": [
            "Shape of data: (32560, 15)\n",
            "\n"
          ]
        }
      ],
      "source": [
        "# Check for the shape\n",
        "\n",
        "print(f\"Shape of data: {df.shape}\\n\")\n"
      ]
    },
    {
      "cell_type": "code",
      "execution_count": null,
      "id": "02c2a643",
      "metadata": {
        "id": "02c2a643",
        "outputId": "82941b82-c170-4ab2-86de-e65879c03eee"
      },
      "outputs": [
        {
          "data": {
            "text/plain": [
              "array([' Bachelors', ' HS-grad', ' 11th', ' Masters', ' 9th',\n",
              "       ' Some-college', ' Assoc-acdm', ' Assoc-voc', ' 7th-8th',\n",
              "       ' Doctorate', ' Prof-school', ' 5th-6th', ' 10th', ' 1st-4th',\n",
              "       ' Preschool', ' 12th'], dtype=object)"
            ]
          },
          "execution_count": 8,
          "metadata": {},
          "output_type": "execute_result"
        }
      ],
      "source": [
        "df[\"Education\"].unique()"
      ]
    },
    {
      "cell_type": "code",
      "execution_count": null,
      "id": "5c911f16",
      "metadata": {
        "id": "5c911f16",
        "outputId": "1582ca86-f30e-4b0f-d40d-a94ddf409299"
      },
      "outputs": [
        {
          "data": {
            "text/plain": [
              "array(['Bachelors', 'Grad', '1st to 12th Grade', 'Masters', nan,\n",
              "       'College', 'Associate', 'Doctorate', 'Prof', 'Preschool'],\n",
              "      dtype=object)"
            ]
          },
          "execution_count": 11,
          "metadata": {},
          "output_type": "execute_result"
        }
      ],
      "source": [
        "df.loc[df[\"Education\"].str.contains(\"Preschool\"), \"Educationnew\"] = \"Preschool\"\n",
        "df.loc[df[\"Education\"].str.contains(\"11th,9th,7th-8th,5th-6th,10th,1st-4th,12th\"), \"Educationnew\"] = \"1st to 12th Grade\"\n",
        "df.loc[df[\"Education\"].str.contains(\"HS-grad\"), \"Educationnew\"] = \"Grad\"\n",
        "df.loc[df[\"Education\"].str.contains(\"Some-college\"), \"Educationnew\"] = \"College\"\n",
        "df.loc[df[\"Education\"].str.contains(\"Bachelors\"), \"Educationnew\"] = \"Bachelors\"\n",
        "df.loc[df[\"Education\"].str.contains(\"Masters\"), \"Educationnew\"] = \"Masters\"\n",
        "df.loc[df[\"Education\"].str.contains(\"Assoc-acdm\"), \"Educationnew\"] = \"Associate\"\n",
        "df.loc[df[\"Education\"].str.contains(\"Assoc-voc\"), \"Educationnew\"] = \"Associate\"\n",
        "df.loc[df[\"Education\"].str.contains(\"Doctorate\"), \"Educationnew\"] = \"Doctorate\"\n",
        "df.loc[df[\"Education\"].str.contains(\"Prof-school\"), \"Educationnew\"] = \"Prof\"\n",
        "\n",
        "\n",
        "df[\"Educationnew\"].unique()"
      ]
    },
    {
      "cell_type": "code",
      "execution_count": null,
      "id": "8ae94173",
      "metadata": {
        "id": "8ae94173",
        "outputId": "e753435c-fb6d-4d7d-855d-ef818db76219"
      },
      "outputs": [
        {
          "data": {
            "text/plain": [
              "array([' Married-civ-spouse', ' Divorced', ' Married-spouse-absent',\n",
              "       ' Never-married', ' Separated', ' Married-AF-spouse', ' Widowed'],\n",
              "      dtype=object)"
            ]
          },
          "execution_count": 49,
          "metadata": {},
          "output_type": "execute_result"
        }
      ],
      "source": [
        "df[\"Marital_status\"].unique()"
      ]
    },
    {
      "cell_type": "code",
      "execution_count": null,
      "id": "f97fd2be",
      "metadata": {
        "id": "f97fd2be",
        "outputId": "42496b93-d86d-4ed4-b5e0-7666191ee920"
      },
      "outputs": [
        {
          "data": {
            "text/plain": [
              "array(['Married', 'Divorced', 'Single', 'Separated', 'Widowed'],\n",
              "      dtype=object)"
            ]
          },
          "execution_count": 45,
          "metadata": {},
          "output_type": "execute_result"
        }
      ],
      "source": [
        "df.loc[df[\"Marital_status\"].str.contains(\"Married-civ-spouse\"), \"Marital_statusnew\"] = \"Married\"\n",
        "df.loc[df[\"Marital_status\"].str.contains(\"Married-spouse-absent\"), \"Marital_statusnew\"] = \"Married\"\n",
        "df.loc[df[\"Marital_status\"].str.contains(\"Married-AF-spouse\"), \"Marital_statusnew\"] = \"Married\"\n",
        "df.loc[df[\"Marital_status\"].str.contains(\"Never-married\"), \"Marital_statusnew\"] = \"Single\"\n",
        "df.loc[df[\"Marital_status\"].str.contains(\"Separated\"), \"Marital_statusnew\"] = \"Separated\"\n",
        "df.loc[df[\"Marital_status\"].str.contains(\"Divorced\"), \"Marital_statusnew\"] = \"Divorced\"\n",
        "df.loc[df[\"Marital_status\"].str.contains(\"Widowed\"), \"Marital_statusnew\"] = \"Widowed\"\n",
        "\n",
        "\n",
        "df[\"Marital_statusnew\"].unique()"
      ]
    },
    {
      "cell_type": "code",
      "execution_count": null,
      "id": "5f7656a8",
      "metadata": {
        "id": "5f7656a8",
        "outputId": "5a43af2a-82a8-4415-dcc3-8d6b67e16e31"
      },
      "outputs": [
        {
          "data": {
            "text/plain": [
              "array([' Self-emp-not-inc', ' Private', ' State-gov', ' Federal-gov',\n",
              "       ' Local-gov', ' ?', ' Self-emp-inc', ' Without-pay',\n",
              "       ' Never-worked'], dtype=object)"
            ]
          },
          "execution_count": 52,
          "metadata": {},
          "output_type": "execute_result"
        }
      ],
      "source": [
        "df[\"Workclass\"].unique()"
      ]
    },
    {
      "cell_type": "code",
      "execution_count": null,
      "id": "2e65c32b",
      "metadata": {
        "id": "2e65c32b",
        "outputId": "1daf3fa1-d876-49da-8c5f-29b5663382ef"
      },
      "outputs": [
        {
          "data": {
            "text/plain": [
              "array(['Self-employed', 'Private', 'State-gov', 'Federal-gov',\n",
              "       'Local-gov', nan, 'Without-pay', 'Never-worked'], dtype=object)"
            ]
          },
          "execution_count": 54,
          "metadata": {},
          "output_type": "execute_result"
        }
      ],
      "source": [
        "df.loc[df[\"Workclass\"].str.contains(\"Self-emp-not-inc\"), \"Workclassnew\"] = \"Self-employed\"\n",
        "df.loc[df[\"Workclass\"].str.contains(\"Self-emp-inc\"), \"Workclassnew\"] = \"Self-employed\"\n",
        "df.loc[df[\"Workclass\"].str.contains(\"Private\"), \"Workclassnew\"] = \"Private\"\n",
        "df.loc[df[\"Workclass\"].str.contains(\"Local-gov\"), \"Workclassnew\"] = \"Local-gov\"\n",
        "df.loc[df[\"Workclass\"].str.contains(\"State-gov\"), \"Workclassnew\"] = \"State-gov\"\n",
        "df.loc[df[\"Workclass\"].str.contains(\"Federal-gov\"), \"Workclassnew\"] = \"Federal-gov\"\n",
        "df.loc[df[\"Workclass\"].str.contains(\"Without-pay\"), \"Workclassnew\"] = \"Without-pay\"\n",
        "df.loc[df[\"Workclass\"].str.contains(\"Never-worked\"), \"Workclassnew\"] = \"Never-worked\"\n",
        "\n",
        "\n",
        "\n",
        "df[\"Workclassnew\"].unique()"
      ]
    },
    {
      "cell_type": "code",
      "execution_count": null,
      "id": "480a6957",
      "metadata": {
        "id": "480a6957"
      },
      "outputs": [],
      "source": [
        "# Map the variables\n",
        "edu_level_mapper = {\n",
        "    0: \"nan\",\n",
        "    1: \"Preschool\",\n",
        "    2: \"Grad\",\n",
        "    3: \"College\",\n",
        "    4: \"Bachelors\",\n",
        "    5: \"Masters\",\n",
        "    6: \"Doctorate\",\n",
        "    7: \"Associate\",\n",
        "    8: \"Prof\",\n",
        "    \n",
        "} \n",
        "edu_vars = [\"Education\"]\n",
        "\n",
        "marital_status_mapper = {\n",
        "    1: \"Single\",\n",
        "    2: \"Married\",\n",
        "    3: \"Separated\",\n",
        "    4: \"Divorced\",\n",
        "    5: \"Widowed\",\n",
        "}\n",
        "marital_vars = [\"Marital_status\"]\n",
        "\n",
        "salary_mapper = {\n",
        "    1: \"<=50k\",\n",
        "    2: \">50k\",\n",
        "}\n",
        "salary_vars = [\"salary\"]\n",
        "\n",
        "sex_mapper = {\n",
        "    1: \"Male\",\n",
        "    2: \"Female\",\n",
        "}\n",
        "sex_vars = [\"Sex\"]\n",
        "\n",
        "work_class_mapper = {\n",
        "    0: \"nan\",\n",
        "    1: \"Never-worked\",\n",
        "    2: \"Without-pay\",\n",
        "    3: \"Self-employed\",\n",
        "    4: \"Private\",\n",
        "    5: \"Local-gov\",\n",
        "    6: \"State-gov\",\n",
        "    7: \"Federal-gov\",\n",
        "}\n",
        "workclass_vars = [\"Workclass\"]"
      ]
    },
    {
      "cell_type": "code",
      "execution_count": null,
      "id": "df41992a",
      "metadata": {
        "id": "df41992a"
      },
      "outputs": [],
      "source": [
        "def map_the_variables(\n",
        "    *, df: pd.DataFrame, features: list, mapper: dict\n",
        ") -> pd.DataFrame:\n",
        "    \"\"\"This is used to map the specified features with the mapper.\"\"\"\n",
        "    data = df.copy()\n",
        "    for feat in features:\n",
        "        data[feat] = df[feat].map(mapper)\n",
        "    return df"
      ]
    },
    {
      "cell_type": "code",
      "execution_count": null,
      "id": "b19b45c0",
      "metadata": {
        "id": "b19b45c0",
        "outputId": "e92c4fd9-0854-4f24-8299-e75fc9f39f5f"
      },
      "outputs": [
        {
          "data": {
            "text/html": [
              "<div>\n",
              "<style scoped>\n",
              "    .dataframe tbody tr th:only-of-type {\n",
              "        vertical-align: middle;\n",
              "    }\n",
              "\n",
              "    .dataframe tbody tr th {\n",
              "        vertical-align: top;\n",
              "    }\n",
              "\n",
              "    .dataframe thead th {\n",
              "        text-align: right;\n",
              "    }\n",
              "</style>\n",
              "<table border=\"1\" class=\"dataframe\">\n",
              "  <thead>\n",
              "    <tr style=\"text-align: right;\">\n",
              "      <th></th>\n",
              "      <th>Age</th>\n",
              "      <th>Workclass</th>\n",
              "      <th>Final_weight</th>\n",
              "      <th>Education</th>\n",
              "      <th>Education_num</th>\n",
              "      <th>Marital_status</th>\n",
              "      <th>Occupation</th>\n",
              "      <th>Relationship</th>\n",
              "      <th>Race</th>\n",
              "      <th>Sex</th>\n",
              "      <th>Capital_gain</th>\n",
              "      <th>Capital_loss</th>\n",
              "      <th>Hours_per_week</th>\n",
              "      <th>Country</th>\n",
              "      <th>Salary</th>\n",
              "      <th>Educationnew</th>\n",
              "    </tr>\n",
              "  </thead>\n",
              "  <tbody>\n",
              "    <tr>\n",
              "      <th>0</th>\n",
              "      <td>50</td>\n",
              "      <td>Self-emp-not-inc</td>\n",
              "      <td>83311</td>\n",
              "      <td>Bachelors</td>\n",
              "      <td>13</td>\n",
              "      <td>Married-civ-spouse</td>\n",
              "      <td>Exec-managerial</td>\n",
              "      <td>Husband</td>\n",
              "      <td>White</td>\n",
              "      <td>Male</td>\n",
              "      <td>0</td>\n",
              "      <td>0</td>\n",
              "      <td>13</td>\n",
              "      <td>United-States</td>\n",
              "      <td>&lt;=50K</td>\n",
              "      <td>Bachelors</td>\n",
              "    </tr>\n",
              "    <tr>\n",
              "      <th>1</th>\n",
              "      <td>38</td>\n",
              "      <td>Private</td>\n",
              "      <td>215646</td>\n",
              "      <td>HS-grad</td>\n",
              "      <td>9</td>\n",
              "      <td>Divorced</td>\n",
              "      <td>Handlers-cleaners</td>\n",
              "      <td>Not-in-family</td>\n",
              "      <td>White</td>\n",
              "      <td>Male</td>\n",
              "      <td>0</td>\n",
              "      <td>0</td>\n",
              "      <td>40</td>\n",
              "      <td>United-States</td>\n",
              "      <td>&lt;=50K</td>\n",
              "      <td>Grad</td>\n",
              "    </tr>\n",
              "    <tr>\n",
              "      <th>2</th>\n",
              "      <td>53</td>\n",
              "      <td>Private</td>\n",
              "      <td>234721</td>\n",
              "      <td>11th</td>\n",
              "      <td>7</td>\n",
              "      <td>Married-civ-spouse</td>\n",
              "      <td>Handlers-cleaners</td>\n",
              "      <td>Husband</td>\n",
              "      <td>Black</td>\n",
              "      <td>Male</td>\n",
              "      <td>0</td>\n",
              "      <td>0</td>\n",
              "      <td>40</td>\n",
              "      <td>United-States</td>\n",
              "      <td>&lt;=50K</td>\n",
              "      <td>1st to 12th Grade</td>\n",
              "    </tr>\n",
              "    <tr>\n",
              "      <th>3</th>\n",
              "      <td>28</td>\n",
              "      <td>Private</td>\n",
              "      <td>338409</td>\n",
              "      <td>Bachelors</td>\n",
              "      <td>13</td>\n",
              "      <td>Married-civ-spouse</td>\n",
              "      <td>Prof-specialty</td>\n",
              "      <td>Wife</td>\n",
              "      <td>Black</td>\n",
              "      <td>Female</td>\n",
              "      <td>0</td>\n",
              "      <td>0</td>\n",
              "      <td>40</td>\n",
              "      <td>Cuba</td>\n",
              "      <td>&lt;=50K</td>\n",
              "      <td>Bachelors</td>\n",
              "    </tr>\n",
              "    <tr>\n",
              "      <th>4</th>\n",
              "      <td>37</td>\n",
              "      <td>Private</td>\n",
              "      <td>284582</td>\n",
              "      <td>Masters</td>\n",
              "      <td>14</td>\n",
              "      <td>Married-civ-spouse</td>\n",
              "      <td>Exec-managerial</td>\n",
              "      <td>Wife</td>\n",
              "      <td>White</td>\n",
              "      <td>Female</td>\n",
              "      <td>0</td>\n",
              "      <td>0</td>\n",
              "      <td>40</td>\n",
              "      <td>United-States</td>\n",
              "      <td>&lt;=50K</td>\n",
              "      <td>Masters</td>\n",
              "    </tr>\n",
              "  </tbody>\n",
              "</table>\n",
              "</div>"
            ],
            "text/plain": [
              "   Age          Workclass  Final_weight   Education  Education_num  \\\n",
              "0   50   Self-emp-not-inc         83311   Bachelors             13   \n",
              "1   38            Private        215646     HS-grad              9   \n",
              "2   53            Private        234721        11th              7   \n",
              "3   28            Private        338409   Bachelors             13   \n",
              "4   37            Private        284582     Masters             14   \n",
              "\n",
              "        Marital_status          Occupation    Relationship    Race      Sex  \\\n",
              "0   Married-civ-spouse     Exec-managerial         Husband   White     Male   \n",
              "1             Divorced   Handlers-cleaners   Not-in-family   White     Male   \n",
              "2   Married-civ-spouse   Handlers-cleaners         Husband   Black     Male   \n",
              "3   Married-civ-spouse      Prof-specialty            Wife   Black   Female   \n",
              "4   Married-civ-spouse     Exec-managerial            Wife   White   Female   \n",
              "\n",
              "   Capital_gain  Capital_loss  Hours_per_week         Country  Salary  \\\n",
              "0             0             0              13   United-States   <=50K   \n",
              "1             0             0              40   United-States   <=50K   \n",
              "2             0             0              40   United-States   <=50K   \n",
              "3             0             0              40            Cuba   <=50K   \n",
              "4             0             0              40   United-States   <=50K   \n",
              "\n",
              "        Educationnew  \n",
              "0          Bachelors  \n",
              "1               Grad  \n",
              "2  1st to 12th Grade  \n",
              "3          Bachelors  \n",
              "4            Masters  "
            ]
          },
          "execution_count": 41,
          "metadata": {},
          "output_type": "execute_result"
        }
      ],
      "source": [
        "df.head()"
      ]
    },
    {
      "cell_type": "code",
      "execution_count": null,
      "id": "553820d6",
      "metadata": {
        "id": "553820d6",
        "outputId": "6efb9fd1-513a-45c9-aa0f-61fe29e84fea"
      },
      "outputs": [
        {
          "data": {
            "text/html": [
              "<div>\n",
              "<style scoped>\n",
              "    .dataframe tbody tr th:only-of-type {\n",
              "        vertical-align: middle;\n",
              "    }\n",
              "\n",
              "    .dataframe tbody tr th {\n",
              "        vertical-align: top;\n",
              "    }\n",
              "\n",
              "    .dataframe thead th {\n",
              "        text-align: right;\n",
              "    }\n",
              "</style>\n",
              "<table border=\"1\" class=\"dataframe\">\n",
              "  <thead>\n",
              "    <tr style=\"text-align: right;\">\n",
              "      <th></th>\n",
              "      <th>Age</th>\n",
              "      <th>Workclass</th>\n",
              "      <th>Final_weight</th>\n",
              "      <th>Education</th>\n",
              "      <th>Education_num</th>\n",
              "      <th>Marital_status</th>\n",
              "      <th>Occupation</th>\n",
              "      <th>Relationship</th>\n",
              "      <th>Race</th>\n",
              "      <th>Sex</th>\n",
              "      <th>Capital_gain</th>\n",
              "      <th>Capital_loss</th>\n",
              "      <th>Hours_per_week</th>\n",
              "      <th>Country</th>\n",
              "      <th>Salary</th>\n",
              "      <th>Marital_statusnew</th>\n",
              "      <th>Educationnew</th>\n",
              "      <th>Workclassnew</th>\n",
              "    </tr>\n",
              "  </thead>\n",
              "  <tbody>\n",
              "    <tr>\n",
              "      <th>0</th>\n",
              "      <td>50</td>\n",
              "      <td>Self-emp-not-inc</td>\n",
              "      <td>83311</td>\n",
              "      <td>Bachelors</td>\n",
              "      <td>13</td>\n",
              "      <td>Married-civ-spouse</td>\n",
              "      <td>Exec-managerial</td>\n",
              "      <td>Husband</td>\n",
              "      <td>White</td>\n",
              "      <td>Male</td>\n",
              "      <td>0</td>\n",
              "      <td>0</td>\n",
              "      <td>13</td>\n",
              "      <td>United-States</td>\n",
              "      <td>&lt;=50K</td>\n",
              "      <td>Married</td>\n",
              "      <td>Bachelors</td>\n",
              "      <td>Self-employed</td>\n",
              "    </tr>\n",
              "    <tr>\n",
              "      <th>1</th>\n",
              "      <td>38</td>\n",
              "      <td>Private</td>\n",
              "      <td>215646</td>\n",
              "      <td>HS-grad</td>\n",
              "      <td>9</td>\n",
              "      <td>Divorced</td>\n",
              "      <td>Handlers-cleaners</td>\n",
              "      <td>Not-in-family</td>\n",
              "      <td>White</td>\n",
              "      <td>Male</td>\n",
              "      <td>0</td>\n",
              "      <td>0</td>\n",
              "      <td>40</td>\n",
              "      <td>United-States</td>\n",
              "      <td>&lt;=50K</td>\n",
              "      <td>Divorced</td>\n",
              "      <td>Grad</td>\n",
              "      <td>Private</td>\n",
              "    </tr>\n",
              "    <tr>\n",
              "      <th>2</th>\n",
              "      <td>53</td>\n",
              "      <td>Private</td>\n",
              "      <td>234721</td>\n",
              "      <td>11th</td>\n",
              "      <td>7</td>\n",
              "      <td>Married-civ-spouse</td>\n",
              "      <td>Handlers-cleaners</td>\n",
              "      <td>Husband</td>\n",
              "      <td>Black</td>\n",
              "      <td>Male</td>\n",
              "      <td>0</td>\n",
              "      <td>0</td>\n",
              "      <td>40</td>\n",
              "      <td>United-States</td>\n",
              "      <td>&lt;=50K</td>\n",
              "      <td>Married</td>\n",
              "      <td>NaN</td>\n",
              "      <td>Private</td>\n",
              "    </tr>\n",
              "    <tr>\n",
              "      <th>3</th>\n",
              "      <td>28</td>\n",
              "      <td>Private</td>\n",
              "      <td>338409</td>\n",
              "      <td>Bachelors</td>\n",
              "      <td>13</td>\n",
              "      <td>Married-civ-spouse</td>\n",
              "      <td>Prof-specialty</td>\n",
              "      <td>Wife</td>\n",
              "      <td>Black</td>\n",
              "      <td>Female</td>\n",
              "      <td>0</td>\n",
              "      <td>0</td>\n",
              "      <td>40</td>\n",
              "      <td>Cuba</td>\n",
              "      <td>&lt;=50K</td>\n",
              "      <td>Married</td>\n",
              "      <td>Bachelors</td>\n",
              "      <td>Private</td>\n",
              "    </tr>\n",
              "    <tr>\n",
              "      <th>4</th>\n",
              "      <td>37</td>\n",
              "      <td>Private</td>\n",
              "      <td>284582</td>\n",
              "      <td>Masters</td>\n",
              "      <td>14</td>\n",
              "      <td>Married-civ-spouse</td>\n",
              "      <td>Exec-managerial</td>\n",
              "      <td>Wife</td>\n",
              "      <td>White</td>\n",
              "      <td>Female</td>\n",
              "      <td>0</td>\n",
              "      <td>0</td>\n",
              "      <td>40</td>\n",
              "      <td>United-States</td>\n",
              "      <td>&lt;=50K</td>\n",
              "      <td>Married</td>\n",
              "      <td>Masters</td>\n",
              "      <td>Private</td>\n",
              "    </tr>\n",
              "  </tbody>\n",
              "</table>\n",
              "</div>"
            ],
            "text/plain": [
              "   Age          Workclass  Final_weight   Education  Education_num  \\\n",
              "0   50   Self-emp-not-inc         83311   Bachelors             13   \n",
              "1   38            Private        215646     HS-grad              9   \n",
              "2   53            Private        234721        11th              7   \n",
              "3   28            Private        338409   Bachelors             13   \n",
              "4   37            Private        284582     Masters             14   \n",
              "\n",
              "        Marital_status          Occupation    Relationship    Race      Sex  \\\n",
              "0   Married-civ-spouse     Exec-managerial         Husband   White     Male   \n",
              "1             Divorced   Handlers-cleaners   Not-in-family   White     Male   \n",
              "2   Married-civ-spouse   Handlers-cleaners         Husband   Black     Male   \n",
              "3   Married-civ-spouse      Prof-specialty            Wife   Black   Female   \n",
              "4   Married-civ-spouse     Exec-managerial            Wife   White   Female   \n",
              "\n",
              "   Capital_gain  Capital_loss  Hours_per_week         Country  Salary  \\\n",
              "0             0             0              13   United-States   <=50K   \n",
              "1             0             0              40   United-States   <=50K   \n",
              "2             0             0              40   United-States   <=50K   \n",
              "3             0             0              40            Cuba   <=50K   \n",
              "4             0             0              40   United-States   <=50K   \n",
              "\n",
              "  Marital_statusnew Educationnew   Workclassnew  \n",
              "0           Married    Bachelors  Self-employed  \n",
              "1          Divorced         Grad        Private  \n",
              "2           Married          NaN        Private  \n",
              "3           Married    Bachelors        Private  \n",
              "4           Married      Masters        Private  "
            ]
          },
          "execution_count": 72,
          "metadata": {},
          "output_type": "execute_result"
        }
      ],
      "source": [
        "# Map the variables\n",
        "\n",
        "data_mapped = df.copy()\n",
        "\n",
        "# Map the Education variables\n",
        "data_mapped = map_the_variables(\n",
        "    df=data_mapped, features=edu_vars, mapper=edu_level_mapper\n",
        ")\n",
        "\n",
        "# Map Marital Status\n",
        "data_mapped = map_the_variables(\n",
        "    df=data_mapped, features=marital_vars, mapper=marital_status_mapper\n",
        ")\n",
        "\n",
        "# # Map Salary\n",
        "# data_mapped = map_the_variables(\n",
        "#     df=data_mapped, features=salary_vars, mapper=salary_mapper\n",
        "# )\n",
        "\n",
        "# Map Sex\n",
        "data_mapped = map_the_variables(\n",
        "    df=data_mapped, features=sex_vars, mapper=sex_mapper\n",
        ")\n",
        "\n",
        "# # Map Workclass\n",
        "# data_mapped = map_the_variables(\n",
        "#     df=data_mapped, features=work_class_vars, mapper=workclass_mapper\n",
        "# )\n",
        "\n",
        "data_mapped.head()"
      ]
    },
    {
      "cell_type": "code",
      "execution_count": null,
      "id": "79a21681",
      "metadata": {
        "id": "79a21681",
        "outputId": "2c1267eb-213d-4572-fd5c-13cf8e3be454"
      },
      "outputs": [
        {
          "data": {
            "text/plain": [
              " <=50K    0.759183\n",
              " >50K     0.240817\n",
              "Name: Salary, dtype: float64"
            ]
          },
          "execution_count": 42,
          "metadata": {},
          "output_type": "execute_result"
        }
      ],
      "source": [
        "df[\"Salary\"].value_counts(normalize=True)"
      ]
    },
    {
      "cell_type": "code",
      "execution_count": null,
      "id": "c5b50da9",
      "metadata": {
        "id": "c5b50da9"
      },
      "outputs": [],
      "source": [
        "RANDOM_STATE = 123\n",
        "TEST_SIZE = 0.2\n",
        "TARGET = \"Salary\""
      ]
    },
    {
      "cell_type": "code",
      "execution_count": null,
      "id": "63a9b627",
      "metadata": {
        "id": "63a9b627",
        "outputId": "122b6376-07ce-4840-e8bd-7ffb08c45d03"
      },
      "outputs": [
        {
          "data": {
            "text/plain": [
              "((26048, 15), (6512, 15))"
            ]
          },
          "execution_count": 16,
          "metadata": {},
          "output_type": "execute_result"
        }
      ],
      "source": [
        "from sklearn.model_selection import train_test_split\n",
        "\n",
        "# Independent features (Matrix)\n",
        "X = df.drop(columns=TARGET)\n",
        "\n",
        "# Target variable (Vector)\n",
        "y = df[TARGET]\n",
        "\n",
        "X_train, X_test, y_train, y_test = train_test_split(\n",
        "    X, y, test_size=TEST_SIZE, random_state=RANDOM_STATE\n",
        ")\n",
        "\n",
        "X_train.shape, X_test.shape"
      ]
    },
    {
      "cell_type": "code",
      "execution_count": null,
      "id": "7ed8be2b",
      "metadata": {
        "id": "7ed8be2b",
        "outputId": "e3ef4b61-b455-4e68-bbce-19f0a6eba3f4"
      },
      "outputs": [
        {
          "data": {
            "text/plain": [
              "Age                  0\n",
              "Workclass            0\n",
              "Final_weight         0\n",
              "Education            0\n",
              "Education_num        0\n",
              "Marital_status       0\n",
              "Occupation           0\n",
              "Relationship         0\n",
              "Race                 0\n",
              "Sex                  0\n",
              "Capital_gain         0\n",
              "Capital_loss         0\n",
              "Hours_per_week       0\n",
              "Country              0\n",
              "Educationnew      2456\n",
              "dtype: int64"
            ]
          },
          "execution_count": 17,
          "metadata": {},
          "output_type": "execute_result"
        }
      ],
      "source": [
        "X_train.isna().sum()"
      ]
    },
    {
      "cell_type": "code",
      "execution_count": null,
      "id": "c863e156",
      "metadata": {
        "id": "c863e156",
        "outputId": "b99bf457-c805-4d10-f034-f480ba42dcd2"
      },
      "outputs": [
        {
          "data": {
            "text/plain": [
              "Age                 0\n",
              "Workclass           0\n",
              "Final_weight        0\n",
              "Education           0\n",
              "Education_num       0\n",
              "Marital_status      0\n",
              "Occupation          0\n",
              "Relationship        0\n",
              "Race                0\n",
              "Sex                 0\n",
              "Capital_gain        0\n",
              "Capital_loss        0\n",
              "Hours_per_week      0\n",
              "Country             0\n",
              "Educationnew      571\n",
              "dtype: int64"
            ]
          },
          "execution_count": 18,
          "metadata": {},
          "output_type": "execute_result"
        }
      ],
      "source": [
        "X_test.isna().sum()"
      ]
    },
    {
      "cell_type": "code",
      "execution_count": null,
      "id": "b75e69c6",
      "metadata": {
        "id": "b75e69c6",
        "outputId": "cb089417-e2b6-4906-ef4d-e6570fd1ed0c"
      },
      "outputs": [
        {
          "data": {
            "text/plain": [
              " HS-grad         32.428593\n",
              " Some-college    22.224355\n",
              " Bachelors       16.300676\n",
              " Masters          5.378532\n",
              " Assoc-voc        4.234490\n",
              " 11th             3.601044\n",
              " Assoc-acdm       3.274724\n",
              " 10th             2.956081\n",
              " 7th-8th          1.996314\n",
              " Prof-school      1.769810\n",
              " 9th              1.597052\n",
              " 12th             1.343673\n",
              " Doctorate        1.213145\n",
              " 5th-6th          0.998157\n",
              " 1st-4th          0.537469\n",
              " Preschool        0.145885\n",
              "Name: Education, dtype: float64"
            ]
          },
          "execution_count": 19,
          "metadata": {},
          "output_type": "execute_result"
        }
      ],
      "source": [
        "X_train[\"Education\"].value_counts(normalize=True).mul(100)"
      ]
    },
    {
      "cell_type": "code",
      "execution_count": null,
      "id": "b1f5f227",
      "metadata": {
        "id": "b1f5f227",
        "outputId": "39e152ec-690f-4bc5-f02f-a83bf651e41b"
      },
      "outputs": [
        {
          "data": {
            "text/plain": [
              " Married-civ-spouse       45.965141\n",
              " Never-married            32.674294\n",
              " Divorced                 13.747697\n",
              " Separated                 3.217138\n",
              " Widowed                   3.040541\n",
              " Married-spouse-absent     1.278409\n",
              " Married-AF-spouse         0.076781\n",
              "Name: Marital_status, dtype: float64"
            ]
          },
          "execution_count": 25,
          "metadata": {},
          "output_type": "execute_result"
        }
      ],
      "source": [
        "X_train[\"Marital_status\"].value_counts(normalize=True).mul(100)"
      ]
    },
    {
      "cell_type": "code",
      "execution_count": null,
      "id": "9f378960",
      "metadata": {
        "id": "9f378960",
        "outputId": "6829d178-6eec-407c-957a-0938328cfddb"
      },
      "outputs": [
        {
          "data": {
            "text/plain": [
              " Craft-repair         12.642045\n",
              " Prof-specialty       12.595977\n",
              " Exec-managerial      12.557586\n",
              " Adm-clerical         11.574785\n",
              " Sales                11.229269\n",
              " Other-service        10.127457\n",
              " Machine-op-inspct     6.150184\n",
              " ?                     5.697174\n",
              " Transport-moving      4.937039\n",
              " Handlers-cleaners     4.203778\n",
              " Farming-fishing       3.071253\n",
              " Tech-support          2.767967\n",
              " Protective-serv       1.980958\n",
              " Priv-house-serv       0.441493\n",
              " Armed-Forces          0.023034\n",
              "Name: Occupation, dtype: float64"
            ]
          },
          "execution_count": 26,
          "metadata": {},
          "output_type": "execute_result"
        }
      ],
      "source": [
        "X_train[\"Occupation\"].value_counts(normalize=True).mul(100)"
      ]
    },
    {
      "cell_type": "code",
      "execution_count": null,
      "id": "8cd66660",
      "metadata": {
        "id": "8cd66660",
        "outputId": "68392a10-cc73-4385-cd6d-febfefcb15e3"
      },
      "outputs": [
        {
          "data": {
            "text/plain": [
              " Private             69.813421\n",
              " Self-emp-not-inc     7.785627\n",
              " Local-gov            6.292230\n",
              " ?                    5.681818\n",
              " State-gov            3.885135\n",
              " Self-emp-inc         3.443643\n",
              " Federal-gov          3.048219\n",
              " Without-pay          0.034552\n",
              " Never-worked         0.015356\n",
              "Name: Workclass, dtype: float64"
            ]
          },
          "execution_count": 27,
          "metadata": {},
          "output_type": "execute_result"
        }
      ],
      "source": [
        "X_train[\"Workclass\"].value_counts(normalize=True).mul(100)"
      ]
    },
    {
      "cell_type": "code",
      "execution_count": null,
      "id": "6bb22a78",
      "metadata": {
        "id": "6bb22a78",
        "outputId": "d97b4744-ba7c-4b4d-bbf5-76f2989c6abf"
      },
      "outputs": [
        {
          "data": {
            "text/plain": [
              " Male      66.799754\n",
              " Female    33.200246\n",
              "Name: Sex, dtype: float64"
            ]
          },
          "execution_count": 28,
          "metadata": {},
          "output_type": "execute_result"
        }
      ],
      "source": [
        "X_train[\"Sex\"].value_counts(normalize=True).mul(100)"
      ]
    },
    {
      "cell_type": "code",
      "execution_count": null,
      "id": "ec1e1fcb",
      "metadata": {
        "id": "ec1e1fcb",
        "outputId": "e1ad8eba-a4e7-4a1c-e197-53f63c601251"
      },
      "outputs": [
        {
          "data": {
            "text/html": [
              "<div>\n",
              "<style scoped>\n",
              "    .dataframe tbody tr th:only-of-type {\n",
              "        vertical-align: middle;\n",
              "    }\n",
              "\n",
              "    .dataframe tbody tr th {\n",
              "        vertical-align: top;\n",
              "    }\n",
              "\n",
              "    .dataframe thead th {\n",
              "        text-align: right;\n",
              "    }\n",
              "</style>\n",
              "<table border=\"1\" class=\"dataframe\">\n",
              "  <thead>\n",
              "    <tr style=\"text-align: right;\">\n",
              "      <th></th>\n",
              "      <th>HS-grad</th>\n",
              "      <th>Some-college</th>\n",
              "      <th>Bachelors</th>\n",
              "      <th>Masters</th>\n",
              "      <th>Assoc-voc</th>\n",
              "      <th>11th</th>\n",
              "      <th>Assoc-acdm</th>\n",
              "      <th>10th</th>\n",
              "      <th>7th-8th</th>\n",
              "      <th>Prof-school</th>\n",
              "      <th>9th</th>\n",
              "      <th>12th</th>\n",
              "      <th>Doctorate</th>\n",
              "      <th>5th-6th</th>\n",
              "      <th>1st-4th</th>\n",
              "      <th>Preschool</th>\n",
              "    </tr>\n",
              "  </thead>\n",
              "  <tbody>\n",
              "    <tr>\n",
              "      <th>Education</th>\n",
              "      <td>32.428593</td>\n",
              "      <td>22.224355</td>\n",
              "      <td>16.300676</td>\n",
              "      <td>5.378532</td>\n",
              "      <td>4.23449</td>\n",
              "      <td>3.601044</td>\n",
              "      <td>3.274724</td>\n",
              "      <td>2.956081</td>\n",
              "      <td>1.996314</td>\n",
              "      <td>1.76981</td>\n",
              "      <td>1.597052</td>\n",
              "      <td>1.343673</td>\n",
              "      <td>1.213145</td>\n",
              "      <td>0.998157</td>\n",
              "      <td>0.537469</td>\n",
              "      <td>0.145885</td>\n",
              "    </tr>\n",
              "  </tbody>\n",
              "</table>\n",
              "</div>"
            ],
            "text/plain": [
              "             HS-grad   Some-college   Bachelors   Masters   Assoc-voc  \\\n",
              "Education  32.428593      22.224355   16.300676  5.378532     4.23449   \n",
              "\n",
              "               11th   Assoc-acdm      10th   7th-8th   Prof-school       9th  \\\n",
              "Education  3.601044     3.274724  2.956081  1.996314       1.76981  1.597052   \n",
              "\n",
              "               12th   Doctorate   5th-6th   1st-4th   Preschool  \n",
              "Education  1.343673    1.213145  0.998157  0.537469    0.145885  "
            ]
          },
          "execution_count": 31,
          "metadata": {},
          "output_type": "execute_result"
        }
      ],
      "source": [
        "X_train[[\"Education\"]].apply(lambda df: pd.value_counts(df, normalize=True)).mul(\n",
        "    100\n",
        ").T"
      ]
    },
    {
      "cell_type": "code",
      "execution_count": null,
      "id": "fcb2779a",
      "metadata": {
        "id": "fcb2779a",
        "outputId": "1a5ff197-2226-4f3e-de52-f96d06e4a9a3"
      },
      "outputs": [
        {
          "data": {
            "text/html": [
              "<div>\n",
              "<style scoped>\n",
              "    .dataframe tbody tr th:only-of-type {\n",
              "        vertical-align: middle;\n",
              "    }\n",
              "\n",
              "    .dataframe tbody tr th {\n",
              "        vertical-align: top;\n",
              "    }\n",
              "\n",
              "    .dataframe thead th {\n",
              "        text-align: right;\n",
              "    }\n",
              "</style>\n",
              "<table border=\"1\" class=\"dataframe\">\n",
              "  <thead>\n",
              "    <tr style=\"text-align: right;\">\n",
              "      <th></th>\n",
              "      <th>Married-civ-spouse</th>\n",
              "      <th>Never-married</th>\n",
              "      <th>Divorced</th>\n",
              "      <th>Separated</th>\n",
              "      <th>Widowed</th>\n",
              "      <th>Married-spouse-absent</th>\n",
              "      <th>Married-AF-spouse</th>\n",
              "    </tr>\n",
              "  </thead>\n",
              "  <tbody>\n",
              "    <tr>\n",
              "      <th>Marital_status</th>\n",
              "      <td>45.965141</td>\n",
              "      <td>32.674294</td>\n",
              "      <td>13.747697</td>\n",
              "      <td>3.217138</td>\n",
              "      <td>3.040541</td>\n",
              "      <td>1.278409</td>\n",
              "      <td>0.076781</td>\n",
              "    </tr>\n",
              "  </tbody>\n",
              "</table>\n",
              "</div>"
            ],
            "text/plain": [
              "                 Married-civ-spouse   Never-married   Divorced   Separated  \\\n",
              "Marital_status            45.965141       32.674294  13.747697    3.217138   \n",
              "\n",
              "                 Widowed   Married-spouse-absent   Married-AF-spouse  \n",
              "Marital_status  3.040541                1.278409            0.076781  "
            ]
          },
          "execution_count": 33,
          "metadata": {},
          "output_type": "execute_result"
        }
      ],
      "source": [
        "X_train[[\"Marital_status\"]].apply(lambda df: pd.value_counts(df, normalize=True)).mul(\n",
        "    100\n",
        ").T"
      ]
    },
    {
      "cell_type": "code",
      "execution_count": null,
      "id": "fb68083f",
      "metadata": {
        "id": "fb68083f",
        "outputId": "fcf906ef-8da9-4939-80aa-c2046f8cb1de"
      },
      "outputs": [
        {
          "data": {
            "text/html": [
              "<div>\n",
              "<style scoped>\n",
              "    .dataframe tbody tr th:only-of-type {\n",
              "        vertical-align: middle;\n",
              "    }\n",
              "\n",
              "    .dataframe tbody tr th {\n",
              "        vertical-align: top;\n",
              "    }\n",
              "\n",
              "    .dataframe thead th {\n",
              "        text-align: right;\n",
              "    }\n",
              "</style>\n",
              "<table border=\"1\" class=\"dataframe\">\n",
              "  <thead>\n",
              "    <tr style=\"text-align: right;\">\n",
              "      <th></th>\n",
              "      <th>Male</th>\n",
              "      <th>Female</th>\n",
              "    </tr>\n",
              "  </thead>\n",
              "  <tbody>\n",
              "    <tr>\n",
              "      <th>Sex</th>\n",
              "      <td>66.799754</td>\n",
              "      <td>33.200246</td>\n",
              "    </tr>\n",
              "  </tbody>\n",
              "</table>\n",
              "</div>"
            ],
            "text/plain": [
              "          Male     Female\n",
              "Sex  66.799754  33.200246"
            ]
          },
          "execution_count": 35,
          "metadata": {},
          "output_type": "execute_result"
        }
      ],
      "source": [
        "X_train[[\"Sex\"]].apply(lambda df: pd.value_counts(df, normalize=True)).mul(\n",
        "    100\n",
        ").T"
      ]
    },
    {
      "cell_type": "code",
      "execution_count": null,
      "id": "1cc9b62e",
      "metadata": {
        "id": "1cc9b62e"
      },
      "outputs": [],
      "source": [
        "X_train[[\"Workclass\"]].apply(lambda df: pd.value_counts(df, normalize=True)).mul(\n",
        "    100\n",
        ").T"
      ]
    },
    {
      "cell_type": "code",
      "execution_count": null,
      "id": "fb7fc2aa",
      "metadata": {
        "id": "fb7fc2aa"
      },
      "outputs": [],
      "source": [
        "# Map the variables\n",
        "edu_level_mapper = {\n",
        "    0: \"nan\",\n",
        "    1: \"Preschool\",\n",
        "    2: \"Grad\",\n",
        "    3: \"College\",\n",
        "    4: \"Bachelors\",\n",
        "    5: \"Masters\",\n",
        "    6: \"Doctorate\",\n",
        "    7: \"Associate\",\n",
        "    8: \"Prof\",\n",
        "    \n",
        "} \n",
        "edu_vars = [\"Education\"]\n",
        "\n",
        "marital_status_mapper = {\n",
        "    1: \"Single\",\n",
        "    2: \"Married\",\n",
        "    3: \"Separated\",\n",
        "    4: \"Divorced\",\n",
        "    5: \"Widowed\",\n",
        "}\n",
        "marital_vars = [\"Marital_status\"]\n",
        "\n",
        "salary_mapper = {\n",
        "    1: \"<=50k\",\n",
        "    2: \">50k\",\n",
        "}\n",
        "salary_vars = [\"salary\"]\n",
        "\n",
        "sex_mapper = {\n",
        "    1: \"Male\",\n",
        "    2: \"Female\",\n",
        "}\n",
        "sex_vars = [\"Sex\"]\n",
        "\n",
        "work_class_mapper = {\n",
        "    0: \"nan\",\n",
        "    1: \"Never-worked\",\n",
        "    2: \"Without-pay\",\n",
        "    3: \"Self-employed\",\n",
        "    4: \"Private\",\n",
        "    5: \"Local-gov\",\n",
        "    6: \"State-gov\",\n",
        "    7: \"Federal-gov\",\n",
        "}\n",
        "workclass_vars = [\"Workclass\"]"
      ]
    },
    {
      "cell_type": "code",
      "execution_count": null,
      "id": "0c9779bb",
      "metadata": {
        "id": "0c9779bb"
      },
      "outputs": [],
      "source": [
        "Education_labels_to_keep = [0, 1, 2, 3, 4, 5, 6, 7, 8]\n",
        "Marital_status_labels_to_keep = [1, 2, 3, 4, 5]\n",
        "Workclass_labels_to_keep = [0, 1, 2, 3, 4, 5, 6, 7]\n",
        "Sex_labels_to_keep = [1, 2]\n",
        "replace_val = \"others\"\n",
        "\n",
        "# ===== Education =====\n",
        "X_train[\"Educationnew\"] = np.where(\n",
        "    X_train[\"Educationnew\"].isin(Education_labels_to_keep), X_train[\"Educationnew\"], replace_val\n",
        ")\n",
        "X_test[\"Education\"] = np.where(\n",
        "    X_test[\"Education\"].isin(Education_labels_to_keep), X_test[\"Education\"], replace_val\n",
        ")\n",
        "\n",
        "# ===== Marital_status =====\n",
        "X_train[\"Marital_status\"] = np.where(\n",
        "    X_train[\"Marital_status\"].isin(Marital_status_labels_to_keep), X_train[\"Marital_status\"], replace_val\n",
        ")\n",
        "X_test[\"Marital_status\"] = np.where(\n",
        "    X_test[\"Marital_status\"].isin(Marital_status_labels_to_keep), X_test[\"Marital_status\"], replace_val\n",
        ")\n",
        "\n",
        "# ===== Workclass =====\n",
        "X_train[\"Workclass\"] = np.where(\n",
        "    X_train[\"Workclass\"].isin(Workclass_labels_to_keep), X_train[\"Workclass\"], replace_val\n",
        ")\n",
        "X_test[\"Workclass\"] = np.where(\n",
        "    X_test[\"Workclass\"].isin(Workclass_labels_to_keep), X_test[\"Workclass\"], replace_val\n",
        ")\n",
        "\n",
        "# ===== Sex =====\n",
        "X_train[\"Sex\"] = np.where(\n",
        "    X_train[\"Sex\"].isin(Sex_labels_to_keep), X_train[\"Sex\"], replace_val\n",
        ")\n",
        "X_test[\"Sex\"] = np.where(\n",
        "    X_test[\"Sex\"].isin(Sex_labels_to_keep), X_test[\"Sex\"], replace_val\n",
        ")"
      ]
    },
    {
      "cell_type": "code",
      "execution_count": null,
      "id": "0464cfd5",
      "metadata": {
        "id": "0464cfd5",
        "outputId": "5dbc7baa-6fe5-4a35-9a67-35150499298f"
      },
      "outputs": [
        {
          "data": {
            "text/html": [
              "<div>\n",
              "<style scoped>\n",
              "    .dataframe tbody tr th:only-of-type {\n",
              "        vertical-align: middle;\n",
              "    }\n",
              "\n",
              "    .dataframe tbody tr th {\n",
              "        vertical-align: top;\n",
              "    }\n",
              "\n",
              "    .dataframe thead th {\n",
              "        text-align: right;\n",
              "    }\n",
              "</style>\n",
              "<table border=\"1\" class=\"dataframe\">\n",
              "  <thead>\n",
              "    <tr style=\"text-align: right;\">\n",
              "      <th></th>\n",
              "      <th>others</th>\n",
              "    </tr>\n",
              "  </thead>\n",
              "  <tbody>\n",
              "    <tr>\n",
              "      <th>Educationnew</th>\n",
              "      <td>100.0</td>\n",
              "    </tr>\n",
              "    <tr>\n",
              "      <th>Marital_status</th>\n",
              "      <td>100.0</td>\n",
              "    </tr>\n",
              "  </tbody>\n",
              "</table>\n",
              "</div>"
            ],
            "text/plain": [
              "                others\n",
              "Educationnew     100.0\n",
              "Marital_status   100.0"
            ]
          },
          "execution_count": 50,
          "metadata": {},
          "output_type": "execute_result"
        }
      ],
      "source": [
        "X_train[[\"Educationnew\", \"Marital_status\"]].apply(lambda df: pd.value_counts(df, normalize=True)).mul(\n",
        "    100\n",
        ").T"
      ]
    },
    {
      "cell_type": "code",
      "execution_count": null,
      "id": "cc9dbaf7",
      "metadata": {
        "id": "cc9dbaf7"
      },
      "outputs": [],
      "source": []
    },
    {
      "cell_type": "code",
      "execution_count": null,
      "id": "836d09d9",
      "metadata": {
        "id": "836d09d9"
      },
      "outputs": [],
      "source": []
    },
    {
      "cell_type": "markdown",
      "id": "6a9d41d8",
      "metadata": {
        "id": "6a9d41d8"
      },
      "source": [
        "### Question 2\n",
        "\n",
        "#### Filter Method"
      ]
    },
    {
      "cell_type": "code",
      "execution_count": null,
      "id": "61b185e2",
      "metadata": {
        "id": "61b185e2",
        "outputId": "48a0ba70-2f84-4c4c-e45e-863a54ed83cc"
      },
      "outputs": [
        {
          "data": {
            "text/html": [
              "<div>\n",
              "<style scoped>\n",
              "    .dataframe tbody tr th:only-of-type {\n",
              "        vertical-align: middle;\n",
              "    }\n",
              "\n",
              "    .dataframe tbody tr th {\n",
              "        vertical-align: top;\n",
              "    }\n",
              "\n",
              "    .dataframe thead th {\n",
              "        text-align: right;\n",
              "    }\n",
              "</style>\n",
              "<table border=\"1\" class=\"dataframe\">\n",
              "  <thead>\n",
              "    <tr style=\"text-align: right;\">\n",
              "      <th></th>\n",
              "      <th>Age</th>\n",
              "      <th>Final_weight</th>\n",
              "      <th>Education_num</th>\n",
              "      <th>Capital_gain</th>\n",
              "      <th>Capital_loss</th>\n",
              "      <th>Hours_per_week</th>\n",
              "    </tr>\n",
              "  </thead>\n",
              "  <tbody>\n",
              "    <tr>\n",
              "      <th>count</th>\n",
              "      <td>32560.000000</td>\n",
              "      <td>3.256000e+04</td>\n",
              "      <td>32560.000000</td>\n",
              "      <td>32560.000000</td>\n",
              "      <td>32560.000000</td>\n",
              "      <td>32560.000000</td>\n",
              "    </tr>\n",
              "    <tr>\n",
              "      <th>mean</th>\n",
              "      <td>38.581634</td>\n",
              "      <td>1.897818e+05</td>\n",
              "      <td>10.080590</td>\n",
              "      <td>1077.615172</td>\n",
              "      <td>87.306511</td>\n",
              "      <td>40.437469</td>\n",
              "    </tr>\n",
              "    <tr>\n",
              "      <th>std</th>\n",
              "      <td>13.640642</td>\n",
              "      <td>1.055498e+05</td>\n",
              "      <td>2.572709</td>\n",
              "      <td>7385.402999</td>\n",
              "      <td>402.966116</td>\n",
              "      <td>12.347618</td>\n",
              "    </tr>\n",
              "    <tr>\n",
              "      <th>min</th>\n",
              "      <td>17.000000</td>\n",
              "      <td>1.228500e+04</td>\n",
              "      <td>1.000000</td>\n",
              "      <td>0.000000</td>\n",
              "      <td>0.000000</td>\n",
              "      <td>1.000000</td>\n",
              "    </tr>\n",
              "    <tr>\n",
              "      <th>25%</th>\n",
              "      <td>28.000000</td>\n",
              "      <td>1.178315e+05</td>\n",
              "      <td>9.000000</td>\n",
              "      <td>0.000000</td>\n",
              "      <td>0.000000</td>\n",
              "      <td>40.000000</td>\n",
              "    </tr>\n",
              "    <tr>\n",
              "      <th>50%</th>\n",
              "      <td>37.000000</td>\n",
              "      <td>1.783630e+05</td>\n",
              "      <td>10.000000</td>\n",
              "      <td>0.000000</td>\n",
              "      <td>0.000000</td>\n",
              "      <td>40.000000</td>\n",
              "    </tr>\n",
              "    <tr>\n",
              "      <th>75%</th>\n",
              "      <td>48.000000</td>\n",
              "      <td>2.370545e+05</td>\n",
              "      <td>12.000000</td>\n",
              "      <td>0.000000</td>\n",
              "      <td>0.000000</td>\n",
              "      <td>45.000000</td>\n",
              "    </tr>\n",
              "    <tr>\n",
              "      <th>max</th>\n",
              "      <td>90.000000</td>\n",
              "      <td>1.484705e+06</td>\n",
              "      <td>16.000000</td>\n",
              "      <td>99999.000000</td>\n",
              "      <td>4356.000000</td>\n",
              "      <td>99.000000</td>\n",
              "    </tr>\n",
              "  </tbody>\n",
              "</table>\n",
              "</div>"
            ],
            "text/plain": [
              "                Age  Final_weight  Education_num  Capital_gain  Capital_loss  \\\n",
              "count  32560.000000  3.256000e+04   32560.000000  32560.000000  32560.000000   \n",
              "mean      38.581634  1.897818e+05      10.080590   1077.615172     87.306511   \n",
              "std       13.640642  1.055498e+05       2.572709   7385.402999    402.966116   \n",
              "min       17.000000  1.228500e+04       1.000000      0.000000      0.000000   \n",
              "25%       28.000000  1.178315e+05       9.000000      0.000000      0.000000   \n",
              "50%       37.000000  1.783630e+05      10.000000      0.000000      0.000000   \n",
              "75%       48.000000  2.370545e+05      12.000000      0.000000      0.000000   \n",
              "max       90.000000  1.484705e+06      16.000000  99999.000000   4356.000000   \n",
              "\n",
              "       Hours_per_week  \n",
              "count    32560.000000  \n",
              "mean        40.437469  \n",
              "std         12.347618  \n",
              "min          1.000000  \n",
              "25%         40.000000  \n",
              "50%         40.000000  \n",
              "75%         45.000000  \n",
              "max         99.000000  "
            ]
          },
          "execution_count": 51,
          "metadata": {},
          "output_type": "execute_result"
        }
      ],
      "source": [
        "df.describe()"
      ]
    },
    {
      "cell_type": "code",
      "execution_count": null,
      "id": "bd1eae78",
      "metadata": {
        "id": "bd1eae78",
        "outputId": "afb70d45-5d01-453b-a5a9-7197b38240f3"
      },
      "outputs": [
        {
          "data": {
            "text/plain": [
              "{'Age': 73,\n",
              " 'Workclass': 9,\n",
              " 'Final_weight': 21647,\n",
              " 'Education': 16,\n",
              " 'Education_num': 16,\n",
              " 'Marital_status': 7,\n",
              " 'Occupation': 15,\n",
              " 'Relationship': 6,\n",
              " 'Race': 5,\n",
              " 'Sex': 2,\n",
              " 'Capital_gain': 119,\n",
              " 'Capital_loss': 92,\n",
              " 'Hours_per_week': 94,\n",
              " 'Country': 42,\n",
              " 'Educationnew': 9}"
            ]
          },
          "execution_count": 52,
          "metadata": {},
          "output_type": "execute_result"
        }
      ],
      "source": [
        "# Check for the number of unique values\n",
        "TARGET = \"Salary\"\n",
        "result_dict = {}\n",
        "\n",
        "for feat in df.columns:\n",
        "    if feat != TARGET:\n",
        "        num_uniq = df[feat].nunique()\n",
        "        result_dict[feat] = num_uniq\n",
        "\n",
        "result_dict"
      ]
    },
    {
      "cell_type": "code",
      "execution_count": null,
      "id": "4bef34ec",
      "metadata": {
        "id": "4bef34ec",
        "outputId": "58a6d5dc-a39c-4208-9cc0-70cd78875041"
      },
      "outputs": [
        {
          "data": {
            "image/png": "[encoded data removed]",
            "text/plain": [
              "<Figure size 720x720 with 2 Axes>"
            ]
          },
          "metadata": {
            "needs_background": "light"
          },
          "output_type": "display_data"
        }
      ],
      "source": [
        "# Check the correlation of features\n",
        "\n",
        "import matplotlib.pyplot as plt\n",
        "import seaborn as sns\n",
        "\n",
        "corr_matrix = df.drop(columns=[TARGET]).corr().abs()\n",
        "\n",
        "plt.figure(figsize=(10, 10))\n",
        "sns.heatmap(data=corr_matrix, annot=True, square=True, fmt=\".2f\")\n",
        "plt.title(\"Correlation Heat Map\")\n",
        "plt.show()"
      ]
    },
    {
      "cell_type": "code",
      "execution_count": null,
      "id": "09498489",
      "metadata": {
        "id": "09498489"
      },
      "outputs": [],
      "source": [
        "def get_correlated_features(*, data: pd.DataFrame, threshold: float) -> list:\n",
        "    \"\"\"This is used to return a list of highly correlated features.\"\"\"\n",
        "    # Select only numeric data\n",
        "    num_data = df.select_dtypes(include=[int, float])\n",
        "\n",
        "    # Store the correlated columns\n",
        "    col_corr = set()\n",
        "\n",
        "    # Correlation matrix\n",
        "    corr_matrix = num_data.corr()\n",
        "\n",
        "    for i in range(len(corr_matrix.columns)):\n",
        "\n",
        "        # check with other features\n",
        "        for j in range(i):\n",
        "\n",
        "            # if the correlation is higher than a certain threshold\n",
        "            if abs(corr_matrix.iloc[i, j]) > threshold:\n",
        "\n",
        "                # print correlation, and variables examined\n",
        "                # keep in mind that the columns and rows of the dataframe are identical\n",
        "                # so we can identify the features being examned by looking for i,j\n",
        "                # in the column names\n",
        "                print(\n",
        "                    f\"correlation: {abs(corr_matrix.iloc[i, j])}, \"\n",
        "                    f\"feat1:{corr_matrix.columns[i]}, feat2:{corr_matrix.columns[j]}\"\n",
        "                )\n",
        "\n",
        "                # Get the name of the correlated feature\n",
        "                col_name = corr_matrix.columns[j]\n",
        "\n",
        "                # and add it to our correlated set\n",
        "                col_corr.add(col_name)\n",
        "\n",
        "    return list(col_corr)"
      ]
    },
    {
      "cell_type": "code",
      "execution_count": null,
      "id": "817b336d",
      "metadata": {
        "id": "817b336d",
        "outputId": "12bbcf9d-ab25-4690-a068-2322029b9a0e"
      },
      "outputs": [
        {
          "data": {
            "text/plain": [
              "[]"
            ]
          },
          "execution_count": 58,
          "metadata": {},
          "output_type": "execute_result"
        }
      ],
      "source": [
        "get_correlated_features(data=df, threshold=0.85)"
      ]
    },
    {
      "cell_type": "code",
      "execution_count": null,
      "id": "72c593ec",
      "metadata": {
        "id": "72c593ec"
      },
      "outputs": [],
      "source": [
        "from sklearn.model_selection import train_test_split\n",
        "\n",
        "# Mutual information values\n",
        "from sklearn.feature_selection import mutual_info_classif, mutual_info_regression\n",
        "\n",
        "from sklearn.linear_model import LogisticRegression\n",
        "\n",
        "\n",
        "RANDOM_STATE = 123\n",
        "TEST_SIZE = 0.2"
      ]
    },
    {
      "cell_type": "code",
      "execution_count": null,
      "id": "0bf6d8e8",
      "metadata": {
        "id": "0bf6d8e8",
        "outputId": "173b676a-b2f3-4fee-8b9f-66b5f9e29425"
      },
      "outputs": [
        {
          "data": {
            "text/plain": [
              " <=50K    0.759183\n",
              " >50K     0.240817\n",
              "Name: Salary, dtype: float64"
            ]
          },
          "execution_count": 28,
          "metadata": {},
          "output_type": "execute_result"
        }
      ],
      "source": [
        "df[\"Salary\"].value_counts(normalize=True)"
      ]
    },
    {
      "cell_type": "code",
      "execution_count": null,
      "id": "f9ffdd45",
      "metadata": {
        "id": "f9ffdd45",
        "outputId": "201df805-b346-4532-b22b-334f66bc33ac"
      },
      "outputs": [
        {
          "data": {
            "text/html": [
              "<div>\n",
              "<style scoped>\n",
              "    .dataframe tbody tr th:only-of-type {\n",
              "        vertical-align: middle;\n",
              "    }\n",
              "\n",
              "    .dataframe tbody tr th {\n",
              "        vertical-align: top;\n",
              "    }\n",
              "\n",
              "    .dataframe thead th {\n",
              "        text-align: right;\n",
              "    }\n",
              "</style>\n",
              "<table border=\"1\" class=\"dataframe\">\n",
              "  <thead>\n",
              "    <tr style=\"text-align: right;\">\n",
              "      <th></th>\n",
              "      <th>Age</th>\n",
              "      <th>Workclass</th>\n",
              "      <th>Final_weight</th>\n",
              "      <th>Education</th>\n",
              "      <th>Education_num</th>\n",
              "      <th>Marital_status</th>\n",
              "      <th>Occupation</th>\n",
              "      <th>Relationship</th>\n",
              "      <th>Race</th>\n",
              "      <th>Sex</th>\n",
              "      <th>Capital_gain</th>\n",
              "      <th>Capital_loss</th>\n",
              "      <th>Hours_per_week</th>\n",
              "      <th>Country</th>\n",
              "      <th>Salary</th>\n",
              "      <th>Educationnew</th>\n",
              "    </tr>\n",
              "  </thead>\n",
              "  <tbody>\n",
              "    <tr>\n",
              "      <th>0</th>\n",
              "      <td>50</td>\n",
              "      <td>Self-emp-not-inc</td>\n",
              "      <td>83311</td>\n",
              "      <td>Bachelors</td>\n",
              "      <td>13</td>\n",
              "      <td>Married-civ-spouse</td>\n",
              "      <td>Exec-managerial</td>\n",
              "      <td>Husband</td>\n",
              "      <td>White</td>\n",
              "      <td>Male</td>\n",
              "      <td>0</td>\n",
              "      <td>0</td>\n",
              "      <td>13</td>\n",
              "      <td>United-States</td>\n",
              "      <td>&lt;=50K</td>\n",
              "      <td>Bachelors</td>\n",
              "    </tr>\n",
              "    <tr>\n",
              "      <th>1</th>\n",
              "      <td>38</td>\n",
              "      <td>Private</td>\n",
              "      <td>215646</td>\n",
              "      <td>HS-grad</td>\n",
              "      <td>9</td>\n",
              "      <td>Divorced</td>\n",
              "      <td>Handlers-cleaners</td>\n",
              "      <td>Not-in-family</td>\n",
              "      <td>White</td>\n",
              "      <td>Male</td>\n",
              "      <td>0</td>\n",
              "      <td>0</td>\n",
              "      <td>40</td>\n",
              "      <td>United-States</td>\n",
              "      <td>&lt;=50K</td>\n",
              "      <td>Grad</td>\n",
              "    </tr>\n",
              "  </tbody>\n",
              "</table>\n",
              "</div>"
            ],
            "text/plain": [
              "   Age          Workclass  Final_weight   Education  Education_num  \\\n",
              "0   50   Self-emp-not-inc         83311   Bachelors             13   \n",
              "1   38            Private        215646     HS-grad              9   \n",
              "\n",
              "        Marital_status          Occupation    Relationship    Race    Sex  \\\n",
              "0   Married-civ-spouse     Exec-managerial         Husband   White   Male   \n",
              "1             Divorced   Handlers-cleaners   Not-in-family   White   Male   \n",
              "\n",
              "   Capital_gain  Capital_loss  Hours_per_week         Country  Salary  \\\n",
              "0             0             0              13   United-States   <=50K   \n",
              "1             0             0              40   United-States   <=50K   \n",
              "\n",
              "  Educationnew  \n",
              "0    Bachelors  \n",
              "1         Grad  "
            ]
          },
          "execution_count": 60,
          "metadata": {},
          "output_type": "execute_result"
        }
      ],
      "source": [
        "df.head(2)"
      ]
    },
    {
      "cell_type": "code",
      "execution_count": null,
      "id": "3b5b0150",
      "metadata": {
        "id": "3b5b0150",
        "outputId": "5cbdd6a2-3a41-4a48-ca2a-e8a57d232840"
      },
      "outputs": [
        {
          "data": {
            "text/plain": [
              "((26048, 15), (6512, 15))"
            ]
          },
          "execution_count": 64,
          "metadata": {},
          "output_type": "execute_result"
        }
      ],
      "source": [
        "X = df.drop(columns=[TARGET])\n",
        "y = df[TARGET]\n",
        "\n",
        "X_train, X_test, y_train, y_test = train_test_split(\n",
        "    X, y, test_size=TEST_SIZE, random_state=RANDOM_STATE\n",
        ")\n",
        "\n",
        "X_train.shape, X_test.shape"
      ]
    },
    {
      "cell_type": "code",
      "execution_count": null,
      "id": "c79ff0d9",
      "metadata": {
        "id": "c79ff0d9",
        "outputId": "09ce74c2-6e69-4e40-88f5-2fdd3f2d43ba"
      },
      "outputs": [
        {
          "data": {
            "text/html": [
              "<div>\n",
              "<style scoped>\n",
              "    .dataframe tbody tr th:only-of-type {\n",
              "        vertical-align: middle;\n",
              "    }\n",
              "\n",
              "    .dataframe tbody tr th {\n",
              "        vertical-align: top;\n",
              "    }\n",
              "\n",
              "    .dataframe thead th {\n",
              "        text-align: right;\n",
              "    }\n",
              "</style>\n",
              "<table border=\"1\" class=\"dataframe\">\n",
              "  <thead>\n",
              "    <tr style=\"text-align: right;\">\n",
              "      <th></th>\n",
              "      <th>Age</th>\n",
              "      <th>Workclass</th>\n",
              "      <th>Final_weight</th>\n",
              "      <th>Education</th>\n",
              "      <th>Education_num</th>\n",
              "      <th>Marital_status</th>\n",
              "      <th>Occupation</th>\n",
              "      <th>Relationship</th>\n",
              "      <th>Race</th>\n",
              "      <th>Sex</th>\n",
              "      <th>Capital_gain</th>\n",
              "      <th>Capital_loss</th>\n",
              "      <th>Hours_per_week</th>\n",
              "      <th>Country</th>\n",
              "      <th>Educationnew</th>\n",
              "    </tr>\n",
              "  </thead>\n",
              "  <tbody>\n",
              "    <tr>\n",
              "      <th>6994</th>\n",
              "      <td>20</td>\n",
              "      <td>?</td>\n",
              "      <td>168863</td>\n",
              "      <td>Some-college</td>\n",
              "      <td>10</td>\n",
              "      <td>Never-married</td>\n",
              "      <td>?</td>\n",
              "      <td>Own-child</td>\n",
              "      <td>White</td>\n",
              "      <td>Female</td>\n",
              "      <td>0</td>\n",
              "      <td>0</td>\n",
              "      <td>20</td>\n",
              "      <td>United-States</td>\n",
              "      <td>College</td>\n",
              "    </tr>\n",
              "    <tr>\n",
              "      <th>17064</th>\n",
              "      <td>22</td>\n",
              "      <td>Private</td>\n",
              "      <td>270436</td>\n",
              "      <td>HS-grad</td>\n",
              "      <td>9</td>\n",
              "      <td>Never-married</td>\n",
              "      <td>Other-service</td>\n",
              "      <td>Own-child</td>\n",
              "      <td>White</td>\n",
              "      <td>Male</td>\n",
              "      <td>0</td>\n",
              "      <td>0</td>\n",
              "      <td>40</td>\n",
              "      <td>United-States</td>\n",
              "      <td>Grad</td>\n",
              "    </tr>\n",
              "  </tbody>\n",
              "</table>\n",
              "</div>"
            ],
            "text/plain": [
              "       Age Workclass  Final_weight      Education  Education_num  \\\n",
              "6994    20         ?        168863   Some-college             10   \n",
              "17064   22   Private        270436        HS-grad              9   \n",
              "\n",
              "       Marital_status      Occupation Relationship    Race      Sex  \\\n",
              "6994    Never-married               ?    Own-child   White   Female   \n",
              "17064   Never-married   Other-service    Own-child   White     Male   \n",
              "\n",
              "       Capital_gain  Capital_loss  Hours_per_week         Country Educationnew  \n",
              "6994              0             0              20   United-States      College  \n",
              "17064             0             0              40   United-States         Grad  "
            ]
          },
          "execution_count": 65,
          "metadata": {},
          "output_type": "execute_result"
        }
      ],
      "source": [
        "X_train.head(2)"
      ]
    },
    {
      "cell_type": "code",
      "execution_count": null,
      "id": "b9eae365",
      "metadata": {
        "id": "b9eae365"
      },
      "outputs": [],
      "source": []
    },
    {
      "cell_type": "code",
      "execution_count": null,
      "id": "5f2c93c7",
      "metadata": {
        "id": "5f2c93c7"
      },
      "outputs": [],
      "source": []
    },
    {
      "cell_type": "code",
      "execution_count": null,
      "id": "c4440d65",
      "metadata": {
        "id": "c4440d65"
      },
      "outputs": [],
      "source": []
    },
    {
      "cell_type": "code",
      "execution_count": null,
      "id": "76851438",
      "metadata": {
        "id": "76851438"
      },
      "outputs": [],
      "source": []
    },
    {
      "cell_type": "code",
      "execution_count": null,
      "id": "5792f53a",
      "metadata": {
        "id": "5792f53a"
      },
      "outputs": [],
      "source": []
    },
    {
      "cell_type": "code",
      "execution_count": null,
      "id": "ead8caf2",
      "metadata": {
        "id": "ead8caf2"
      },
      "outputs": [],
      "source": []
    },
    {
      "cell_type": "code",
      "execution_count": null,
      "id": "58790f5a",
      "metadata": {
        "id": "58790f5a"
      },
      "outputs": [],
      "source": []
    }
  ],
  "metadata": {
    "kernelspec": {
      "display_name": "Python 3 (ipykernel)",
      "language": "python",
      "name": "python3"
    },
    "language_info": {
      "codemirror_mode": {
        "name": "ipython",
        "version": 3
      },
      "file_extension": ".py",
      "mimetype": "text/x-python",
      "name": "python",
      "nbconvert_exporter": "python",
      "pygments_lexer": "ipython3",
      "version": "3.9.12"
    },
    "colab": {
      "provenance": []
    }
  },
  "nbformat": 4,
  "nbformat_minor": 5
}